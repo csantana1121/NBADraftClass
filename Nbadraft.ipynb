{
 "cells": [
  {
   "cell_type": "code",
   "execution_count": 1,
   "metadata": {},
   "outputs": [],
   "source": [
    "import pandas as pd"
   ]
  },
  {
   "cell_type": "code",
   "execution_count": 2,
   "metadata": {},
   "outputs": [
    {
     "name": "stdout",
     "output_type": "stream",
     "text": [
      "               player position                  id  draft year  projected spm  \\\n",
      "0  karl-anthony towns        c  karl-anthony-towns        2015       1.030606   \n",
      "1        devin booker       sg      3-devin-booker        2015       0.472577   \n",
      "2     kelly oubre jr.       sf      kelly-oubre-jr        2015       0.247310   \n",
      "3    d`angelo russell       pg    d-angelo-russell        2015       0.511967   \n",
      "4     justise winslow       sf     justise-winslow        2015       0.875329   \n",
      "\n",
      "   superstar   starter  role player      bust  \n",
      "0   0.134767  0.427183     0.163083  0.274967  \n",
      "1   0.073367  0.324467     0.390167  0.212000  \n",
      "2   0.019833  0.378983     0.337967  0.263217  \n",
      "3   0.152033  0.342283     0.096583  0.409100  \n",
      "4   0.083529  0.510905     0.176767  0.228800  \n"
     ]
    }
   ],
   "source": [
    "data = pd.read_csv('historical_projections.csv')\n",
    "\n",
    "print(data.head())"
   ]
  },
  {
   "cell_type": "code",
   "execution_count": 3,
   "metadata": {},
   "outputs": [],
   "source": [
    "playernames= data.iloc[0:4,0]\n",
    "percent_super = data.iloc[0:4,5]"
   ]
  },
  {
   "cell_type": "code",
   "execution_count": 4,
   "metadata": {},
   "outputs": [
    {
     "name": "stdout",
     "output_type": "stream",
     "text": [
      "0    karl-anthony towns\n",
      "1          devin booker\n",
      "2       kelly oubre jr.\n",
      "3      d`angelo russell\n",
      "Name: player, dtype: object\n",
      "0    0.134767\n",
      "1    0.073367\n",
      "2    0.019833\n",
      "3    0.152033\n",
      "Name: superstar, dtype: float64\n",
      "0    0.427183\n",
      "1    0.324467\n",
      "2    0.378983\n",
      "3    0.342283\n",
      "Name: starter, dtype: float64\n",
      "0    0.163083\n",
      "1    0.390167\n",
      "2    0.337967\n",
      "3    0.096583\n",
      "Name: role player, dtype: float64\n",
      "0    0.274967\n",
      "1    0.212000\n",
      "2    0.263217\n",
      "3    0.409100\n",
      "Name: bust, dtype: float64\n"
     ]
    }
   ],
   "source": [
    "print(playernames)\n",
    "print(percent_super)\n",
    "print(data.iloc[0:4,6])\n",
    "print(data.iloc[0:4,7])\n",
    "print(data.iloc[0:4,8])"
   ]
  },
  {
   "cell_type": "code",
   "execution_count": 5,
   "metadata": {},
   "outputs": [],
   "source": [
    "rooksuper = pd.concat([playernames,percent_super])"
   ]
  },
  {
   "cell_type": "code",
   "execution_count": 6,
   "metadata": {},
   "outputs": [],
   "source": [
    "import matplotlib.pyplot as plt\n",
    "import numpy as np"
   ]
  },
  {
   "cell_type": "code",
   "execution_count": 7,
   "metadata": {},
   "outputs": [
    {
     "data": {
      "image/png": "[encoded data removed]",
      "text/plain": [
       "<Figure size 432x288 with 1 Axes>"
      ]
     },
     "metadata": {
      "needs_background": "light"
     },
     "output_type": "display_data"
    }
   ],
   "source": [
    "labels = playernames\n",
    "super_percent = percent_super\n",
    "starter_percent = data.iloc[0:4,6]\n",
    "rplayer_percent = data.iloc[0:4,7]\n",
    "bust_percent = data.iloc[0:4,8]\n",
    "width = 0.5\n",
    "\n",
    "fig, ax = plt.subplots()\n",
    "\n",
    "ax.bar(labels, super_percent, width,label='% chance of becoming a superstar')\n",
    "ax.bar(labels, starter_percent, width,bottom=super_percent,label='% chance of becoming a starter')\n",
    "ax.bar(labels, rplayer_percent, width,bottom=np.array(starter_percent) + np.array(super_percent),label='% chance of becoming a role player')\n",
    "ax.bar(labels, bust_percent, width,bottom=np.array(starter_percent) + np.array(super_percent) + np.array(rplayer_percent),label='% chance of becoming a bust')\n",
    "\n",
    "ax.set_ylabel('%')\n",
    "ax.set_title('Projected outcomes for Draft Class of 2015')#Only 4 players due to the graph being small on this display.\n",
    "ax.legend()\n",
    "\n",
    "plt.show()"
   ]
  },
  {
   "cell_type": "code",
   "execution_count": 8,
   "metadata": {},
   "outputs": [
    {
     "data": {
      "image/png": "[encoded data removed]",
      "text/plain": [
       "<Figure size 432x288 with 1 Axes>"
      ]
     },
     "metadata": {
      "needs_background": "light"
     },
     "output_type": "display_data"
    }
   ],
   "source": [
    "import matplotlib.pyplot as plt\n",
    "\n",
    "\n",
    "labels = ['G1', 'G2', 'G3', 'G4', 'G5']\n",
    "men_means = [20, 35, 30, 35, 27]\n",
    "women_means = [25, 32, 34, 20, 25]\n",
    "men_std = [2, 3, 4, 1, 2]\n",
    "women_std = [3, 5, 2, 3, 3]\n",
    "width = 0.35       # the width of the bars: can also be len(x) sequence\n",
    "\n",
    "fig, ax = plt.subplots()\n",
    "\n",
    "ax.bar(labels, men_means, width, yerr=men_std, label='Men')\n",
    "ax.bar(labels, women_means, width, yerr=women_std, bottom=men_means,\n",
    "       label='Women')\n",
    "\n",
    "ax.set_ylabel('Scores')\n",
    "ax.set_title('Scores by group and gender')\n",
    "ax.legend()\n",
    "\n",
    "plt.show()"
   ]
  },
  {
   "cell_type": "code",
   "execution_count": null,
   "metadata": {},
   "outputs": [],
   "source": []
  },
  {
   "cell_type": "code",
   "execution_count": null,
   "metadata": {},
   "outputs": [],
   "source": []
  }
 ],
 "metadata": {
  "kernelspec": {
   "display_name": "Python 3",
   "language": "python",
   "name": "python3"
  },
  "language_info": {
   "codemirror_mode": {
    "name": "ipython",
    "version": 3
   },
   "file_extension": ".py",
   "mimetype": "text/x-python",
   "name": "python",
   "nbconvert_exporter": "python",
   "pygments_lexer": "ipython3",
   "version": "3.6.9"
  }
 },
 "nbformat": 4,
 "nbformat_minor": 2
}
